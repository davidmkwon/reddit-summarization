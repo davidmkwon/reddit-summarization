{
 "cells": [
  {
   "cell_type": "code",
   "execution_count": 55,
   "metadata": {},
   "outputs": [],
   "source": [
    "import util\n",
    "\n",
    "import convokit\n",
    "from convokit import Corpus\n",
    "import matplotlib.pyplot as plt\n",
    "from importlib import reload\n",
    "%matplotlib inline"
   ]
  },
  {
   "cell_type": "code",
   "execution_count": 107,
   "metadata": {},
   "outputs": [],
   "source": [
    "# corpus variable -> get from saved path\n",
    "data_path_remote = '/nethome/dkwon49/.convokit/saved-corpora/subreddit-travel-integrity'\n",
    "corpus = Corpus(data_path_remote)"
   ]
  },
  {
   "cell_type": "code",
   "execution_count": 94,
   "metadata": {},
   "outputs": [],
   "source": [
    "# lambda filtering functions\n",
    "filter_func = lambda utt: utt.speaker.id + \": \" + utt.text\n",
    "integrity_func = lambda conv: conv.check_integrity(verbose=False)"
   ]
  },
  {
   "cell_type": "code",
   "execution_count": 95,
   "metadata": {},
   "outputs": [],
   "source": [
    "# filter out non-complete conversations. this can be done using the check_integrity function.\n",
    "# NOTE: THIS HAS ALREADY BEEN RUN\n",
    "corpus.filter_conversations_by(integrity_func)"
   ]
  },
  {
   "cell_type": "code",
   "execution_count": 108,
   "metadata": {},
   "outputs": [],
   "source": [
    "# get conversation lengths\n",
    "conv_lengths = util.get_conv_lengths(corpus)"
   ]
  },
  {
   "cell_type": "code",
   "execution_count": 109,
   "metadata": {},
   "outputs": [
    {
     "name": "stdout",
     "output_type": "stream",
     "text": [
      "original corpus\n",
      "mean: 4.132827776540185, std: 14.293929274520798\n",
      "Number of Speakers: 365212\n",
      "Number of Utterances: 2671526\n",
      "Number of Conversations: 646416\n"
     ]
    }
   ],
   "source": [
    "# some stats\n",
    "print(\"original corpus\")\n",
    "mean, std = util.mean_std(conv_lengths)\n",
    "print(\"mean: {}, std: {}\".format(mean, std))\n",
    "corpus.print_summary_stats()"
   ]
  },
  {
   "cell_type": "code",
   "execution_count": 110,
   "metadata": {},
   "outputs": [
    {
     "data": {
      "image/png": "[encoded data removed]",
      "text/plain": [
       "<Figure size 432x288 with 1 Axes>"
      ]
     },
     "metadata": {
      "needs_background": "light"
     },
     "output_type": "display_data"
    }
   ],
   "source": [
    "util.plot_conv_lengths(conv_lengths, low=0, high=mean+std)"
   ]
  },
  {
   "cell_type": "code",
   "execution_count": 99,
   "metadata": {},
   "outputs": [
    {
     "name": "stdout",
     "output_type": "stream",
     "text": [
      "407992\n"
     ]
    }
   ],
   "source": [
    "print(util.num_convs_between(conv_lengths, 1, 1))"
   ]
  },
  {
   "cell_type": "code",
   "execution_count": 43,
   "metadata": {},
   "outputs": [],
   "source": [
    "# get random conversation from corpus\n",
    "rand_conv = corpus.random_conversation()"
   ]
  },
  {
   "cell_type": "code",
   "execution_count": 104,
   "metadata": {},
   "outputs": [
    {
     "name": "stdout",
     "output_type": "stream",
     "text": [
      "0\n"
     ]
    }
   ],
   "source": [
    "print(util.count_unclean_corpus(corpus))"
   ]
  },
  {
   "cell_type": "code",
   "execution_count": 30,
   "metadata": {},
   "outputs": [],
   "source": [
    "filter_func = lambda utt: utt.speaker.id + \": \" + utt.text"
   ]
  },
  {
   "cell_type": "code",
   "execution_count": 90,
   "metadata": {},
   "outputs": [
    {
     "data": {
      "text/plain": [
       "<module 'util' from '/home/dkwon49/reddit-summarization/data/util.py'>"
      ]
     },
     "execution_count": 90,
     "metadata": {},
     "output_type": "execute_result"
    }
   ],
   "source": [
    "reload(util)"
   ]
  }
 ],
 "metadata": {
  "kernelspec": {
   "display_name": "Python 3",
   "language": "python",
   "name": "python3"
  },
  "language_info": {
   "codemirror_mode": {
    "name": "ipython",
    "version": 3
   },
   "file_extension": ".py",
   "mimetype": "text/x-python",
   "name": "python",
   "nbconvert_exporter": "python",
   "pygments_lexer": "ipython3",
   "version": "3.8.3"
  }
 },
 "nbformat": 4,
 "nbformat_minor": 4
}
